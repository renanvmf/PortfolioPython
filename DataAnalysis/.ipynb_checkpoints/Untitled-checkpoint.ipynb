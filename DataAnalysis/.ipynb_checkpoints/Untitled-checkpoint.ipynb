{
 "cells": [
  {
   "cell_type": "code",
   "execution_count": null,
   "id": "a7b5df57",
   "metadata": {},
   "outputs": [],
   "source": [
    "import pandas as pd\n",
    "import plotly.express as px\n",
    "#importando a base de dados em CSV, deletando a coluna Unnamed: 0 que representam infomações vazias,\n",
    "#e exibindo a tabela\n",
    "df = pd.read_csv(\"telecom_users.csv\")\n",
    "df = df.drop([\"Unnamed: 0\"], axis=1)\n",
    "display(df)\n",
    "\n",
    "#Exibindo informações sobre a base de dados:\n",
    "print(df.info())\n",
    "\n",
    "#Podemos verificar dois erros nos dados: Coluna TotalGasto com tipo de dado Object (texto), e a coluna \n",
    "#código vazia - 0 dados.Vamos então tratar a base de dados.\n",
    "#Convertendo dados tipo object para numérico:\n",
    "\n",
    "df[\"TotalGasto\"] = pd.to_numeric(df[\"TotalGasto\"], errors = \"coerce\")\n",
    "\n",
    "#Retirando colunas que possuam APENAS linhas vazias.\n",
    "\n",
    "df = df.dropna(how = \"all\" , axis = 1)\n",
    "\n",
    "#Retirando linhas com valores vazios:\n",
    "\n",
    "df = df.dropna()\n",
    "\n",
    "#É possível distinguir as alterações na nova tabela e informações sobre. \n",
    "\n",
    "display(df)\n",
    "print(df.info())\n",
    "\n",
    "#Análise dos dados:\n",
    "\n",
    "display(df[\"Churn\"].value_counts())\n",
    "display(df[\"Churn\"].value_counts(normalize=True).map(\"{:.1%}\".format))\n",
    "\n",
    "#Criação dos gráficos:\n",
    "for coluna in df:\n",
    "    if coluna != \"IDCliente\":\n",
    "        fig = px.histogram(df, x = coluna, color=\"Churn\")\n",
    "        fig.show()\n",
    "        display(df.pivot_table(index=\"Churn\", columns=coluna, aggfunc=\"count\")[\"IDCliente\"])"
   ]
  }
 ],
 "metadata": {
  "kernelspec": {
   "display_name": "Python 3 (ipykernel)",
   "language": "python",
   "name": "python3"
  },
  "language_info": {
   "codemirror_mode": {
    "name": "ipython",
    "version": 3
   },
   "file_extension": ".py",
   "mimetype": "text/x-python",
   "name": "python",
   "nbconvert_exporter": "python",
   "pygments_lexer": "ipython3",
   "version": "3.10.4"
  }
 },
 "nbformat": 4,
 "nbformat_minor": 5
}
